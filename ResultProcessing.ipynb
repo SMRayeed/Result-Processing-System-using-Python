{
  "nbformat": 4,
  "nbformat_minor": 0,
  "metadata": {
    "colab": {
      "name": "ResultProcessing.ipynb",
      "provenance": [],
      "collapsed_sections": []
    },
    "kernelspec": {
      "name": "python3",
      "display_name": "Python 3"
    }
  },
  "cells": [
    {
      "cell_type": "code",
      "metadata": {
        "id": "aoEWoYIOEFYt"
      },
      "source": [
        "class GradesGenerator:\r\n",
        "  def __init__(self, courseName, courseID, courseCredit): \r\n",
        "    self.courseID = courseID\r\n",
        "    self.courseName = courseName\r\n",
        "    self.courseTitle = self.courseName + \" - \" + self.courseID\r\n",
        "    self.courseCredit = courseCredit\r\n",
        "    self.attendanceMarks = self.attendanceMarksHandler()\r\n",
        "\r\n",
        "    if self.attendanceMarks == 0 :\r\n",
        "      self.totalQuizMarks = 0\r\n",
        "      self.midMarks = 0\r\n",
        "      self.finalMarks = 0\r\n",
        "    \r\n",
        "    else :\r\n",
        "      self.totalQuizMarks = self.quizMarksHandler()\r\n",
        "      self.midMarks = self.midMarksHandler()\r\n",
        "      self.finalMarks = self.finalMarksHandler()\r\n",
        "\r\n",
        "    self.totalObtianedMarks = self.totalMarksHandler()\r\n",
        "    print(\"Total Obtained Marks in\", self.courseTitle, \":\", self.totalObtianedMarks, \"Out of\", 100*self.courseCredit)\r\n",
        "    self.marksPercentage = self.marksPercentageHandler()\r\n",
        "    self.grades = self.gradesHandler()\r\n",
        "    print(\"Grades*Credits Obtained in\", self.courseTitle, \":\", self.grades)\r\n",
        "\r\n",
        "\r\n",
        "  def quizMarksHandler(self):\r\n",
        "    self.noQuiz = int(input(\"Enter number of Quizes : \"))\r\n",
        "    self.quizArray = []\r\n",
        "    for self.i in range(self.noQuiz):\r\n",
        "      self.quiz = int(input(\"Enter quiz marks : \"))\r\n",
        "      self.quizArray.append(self.quiz)\r\n",
        "    \r\n",
        "    self.quizArray.remove(min(self.quizArray))\r\n",
        "    self.totalQuiz = 0\r\n",
        "    \r\n",
        "    for self.eachQuiz in self.quizArray:\r\n",
        "      self.totalQuiz += self.eachQuiz\r\n",
        "    \r\n",
        "    return self.totalQuiz\r\n",
        "\r\n",
        "\r\n",
        "  def attendanceMarksHandler(self):\r\n",
        "    self.classesTaken = int(input(\"Enter total number of classes taken : \"))\r\n",
        "    self.classesAttended = int(input(\"Enter number of classes attended : \"))\r\n",
        "\r\n",
        "    self.attendancePercentage = 100*float(self.classesAttended)/float(self.classesTaken)\r\n",
        "\r\n",
        "    if self.attendancePercentage >= 95 and self.attendancePercentage <= 100 :\r\n",
        "      self.attendanceMarks = 10*self.courseCredit\r\n",
        "    elif self.attendancePercentage >= 90 and self.attendancePercentage < 95 :\r\n",
        "      self.attendanceMarks = 9*self.courseCredit\r\n",
        "    elif self.attendancePercentage >= 85 and self.attendancePercentage < 90 :\r\n",
        "      self.attendanceMarks = 8*self.courseCredit\r\n",
        "    elif self.attendancePercentage >= 80 and self.attendancePercentage < 85 :\r\n",
        "      self.attendanceMarks = 7*self.courseCredit\r\n",
        "    elif self.attendancePercentage >= 75 and self.attendancePercentage < 80 :\r\n",
        "      self.attendanceMarks = 6*self.courseCredit\r\n",
        "    else :\r\n",
        "      self.attendanceMarks = 0\r\n",
        "    \r\n",
        "    return self.attendanceMarks\r\n",
        "\r\n",
        "\r\n",
        "  def midMarksHandler(self):\r\n",
        "    self.midMarks = int(input(\"Enter marks in Midterm exam : \"))\r\n",
        "    return self.midMarks\r\n",
        "\r\n",
        "\r\n",
        "  def finalMarksHandler(self):\r\n",
        "    self.finalMarks = int(input(\"Enter marks in Final exam : \"))\r\n",
        "    return self.finalMarks\r\n",
        "\r\n",
        "\r\n",
        "  def totalMarksHandler(self):\r\n",
        "    self.totalObtianedMarks = self.totalQuizMarks + self.attendanceMarks + self.midMarks + self.finalMarks\r\n",
        "    return self.totalObtianedMarks\r\n",
        "\r\n",
        "\r\n",
        "  def marksPercentageHandler(self):\r\n",
        "    self.marksPercentage = 100*(float(self.totalObtianedMarks)/float(self.courseCredit*100))\r\n",
        "    return self.marksPercentage\r\n",
        "\r\n",
        "  def gradesHandler(self):\r\n",
        "    if self.marksPercentage >= 80 :\r\n",
        "      self.grades = 4.00*self.courseCredit\r\n",
        "    elif self.marksPercentage >= 75 and self.marksPercentage < 80 :\r\n",
        "      self.grades = 3.75*self.courseCredit\r\n",
        "    elif self.marksPercentage >= 70 and self.marksPercentage < 75 :\r\n",
        "      self.grades = 3.50*self.courseCredit\r\n",
        "    elif self.marksPercentage >= 65 and self.marksPercentage < 70 :\r\n",
        "      self.grades = 3.25*self.courseCredit\r\n",
        "    elif self.marksPercentage >= 60 and self.marksPercentage < 65 :\r\n",
        "      self.grades = 3.00*self.courseCredit\r\n",
        "    elif self.marksPercentage >= 55 and self.marksPercentage < 60 :\r\n",
        "      self.grades = 2.75*self.courseCredit\r\n",
        "    elif self.marksPercentage >= 50 and self.marksPercentage < 55 :\r\n",
        "      self.grades = 2.50*self.courseCredit\r\n",
        "    elif self.marksPercentage >= 45 and self.marksPercentage < 50 :\r\n",
        "      self.grades = 2.25*self.courseCredit\r\n",
        "    elif self.marksPercentage >= 40 and self.marksPercentage < 45 :\r\n",
        "      self.grades = 2.00*self.courseCredit\r\n",
        "    else :\r\n",
        "      self.grades = 0\r\n",
        "    \r\n",
        "    return self.grades"
      ],
      "execution_count": 140,
      "outputs": []
    },
    {
      "cell_type": "code",
      "metadata": {
        "colab": {
          "base_uri": "https://localhost:8080/"
        },
        "id": "MpeS3_p7d9T5",
        "outputId": "de9df458-c79c-4c7b-f5dd-9f988c5644bf"
      },
      "source": [
        "studentName = input(\"Enter Student Name : \")\r\n",
        "studentID = input(\"Enter Student ID : \")\r\n",
        "semester = int(input(\"Enter Semester : \"))\r\n",
        "previousCGPA = float(input(\"Previous CGPA : \"))"
      ],
      "execution_count": 148,
      "outputs": [
        {
          "output_type": "stream",
          "text": [
            "Enter Student Name : CantShoot420\n",
            "Enter Student ID : 160041005\n",
            "Enter Semester : 6\n",
            "Previous CGPA : 3.49\n"
          ],
          "name": "stdout"
        }
      ]
    },
    {
      "cell_type": "code",
      "metadata": {
        "colab": {
          "base_uri": "https://localhost:8080/"
        },
        "id": "QPijYwtzOA1r",
        "outputId": "e34617c9-b294-4195-d639-8c962a75834f"
      },
      "source": [
        "noCourses = int(input(\"Enter Number of Courses : \"))\r\n",
        "courseNames = []\r\n",
        "courseIDs = []\r\n",
        "courseCredits = []\r\n",
        "courseGrades = []\r\n",
        "totalCredits = 0\r\n",
        "totalCreditsObtained = 0\r\n",
        "\r\n",
        "for i in range(noCourses):\r\n",
        "  print(\"\\nInput for Course\", i+1)\r\n",
        "  courseName = input(\"Enter Course Name : \")\r\n",
        "  courseNames.append(courseName)\r\n",
        "  courseID = input(\"Enter Course ID : \")\r\n",
        "  courseIDs.append(courseID)\r\n",
        "  courseCredit = int(input(\"Enter Course Credit : \"))\r\n",
        "  courseCredits.append(courseCredit)\r\n",
        "  \r\n",
        "  course = GradesGenerator(courseNames[i], courseIDs[i], courseCredits[i])\r\n",
        "  courseGrades.append(course)\r\n",
        "\r\n",
        "  totalCredits += courseCredits[i]\r\n",
        "  totalCreditsObtained += courseGrades[i].grades\r\n",
        "\r\n",
        "  print(\"\\n\")\r\n",
        "\r\n",
        "print(\"Total Credits : \", totalCredits)\r\n",
        "print(\"Total Obtianed Grades*Credits : \", totalCreditsObtained)\r\n",
        "\r\n",
        "newGPA = float(totalCreditsObtained)/float(totalCredits)\r\n",
        "newGPA = round(newGPA,2)\r\n",
        "print(\"GPA : \", newGPA)"
      ],
      "execution_count": 149,
      "outputs": [
        {
          "output_type": "stream",
          "text": [
            "Enter Number of Courses : 3\n",
            "\n",
            "Input for Course 1\n",
            "Enter Course Name : HCI\n",
            "Enter Course ID : CSE 4849\n",
            "Enter Course Credit : 3\n",
            "Enter total number of classes taken : 32\n",
            "Enter number of classes attended : 28\n",
            "Enter number of Quizes : 4\n",
            "Enter quiz marks : 11\n",
            "Enter quiz marks : 12\n",
            "Enter quiz marks : 8\n",
            "Enter quiz marks : 11\n",
            "Enter marks in Midterm exam : 56\n",
            "Enter marks in Final exam : 124\n",
            "Total Obtained Marks in HCI - CSE 4849 : 238 Out of 300\n",
            "Grades*Credits Obtained in HCI - CSE 4849 : 11.25\n",
            "\n",
            "\n",
            "\n",
            "Input for Course 2\n",
            "Enter Course Name : IP\n",
            "Enter Course ID : CSE 4839\n",
            "Enter Course Credit : 3\n",
            "Enter total number of classes taken : 32\n",
            "Enter number of classes attended : 25\n",
            "Enter number of Quizes : 4\n",
            "Enter quiz marks : 9\n",
            "Enter quiz marks : 13\n",
            "Enter quiz marks : 7\n",
            "Enter quiz marks : 14\n",
            "Enter marks in Midterm exam : 56\n",
            "Enter marks in Final exam : 119\n",
            "Total Obtained Marks in IP - CSE 4839 : 229 Out of 300\n",
            "Grades*Credits Obtained in IP - CSE 4839 : 11.25\n",
            "\n",
            "\n",
            "\n",
            "Input for Course 3\n",
            "Enter Course Name : ITOM\n",
            "Enter Course ID : CSE 4807\n",
            "Enter Course Credit : 2\n",
            "Enter total number of classes taken : 32\n",
            "Enter number of classes attended : 27\n",
            "Enter number of Quizes : 3\n",
            "Enter quiz marks : 12\n",
            "Enter quiz marks : 11\n",
            "Enter quiz marks : 14\n",
            "Enter marks in Midterm exam : 57\n",
            "Enter marks in Final exam : 127\n",
            "Total Obtained Marks in ITOM - CSE 4807 : 224 Out of 200\n",
            "Grades*Credits Obtained in ITOM - CSE 4807 : 8.0\n",
            "\n",
            "\n",
            "Total Credits :  8\n",
            "Total Obtianed Grades*Credits :  30.5\n",
            "GPA :  3.81\n"
          ],
          "name": "stdout"
        }
      ]
    },
    {
      "cell_type": "code",
      "metadata": {
        "colab": {
          "base_uri": "https://localhost:8080/"
        },
        "id": "TGmpGHHogPqI",
        "outputId": "59035fda-3b4a-4e6e-cb2f-1047364dc9bd"
      },
      "source": [
        "newCGPA = float(previousCGPA*(semester-1)+newGPA)/float(semester)\r\n",
        "newCGPA = round(newCGPA,2)\r\n",
        "print(newCGPA)"
      ],
      "execution_count": 150,
      "outputs": [
        {
          "output_type": "stream",
          "text": [
            "3.54\n"
          ],
          "name": "stdout"
        }
      ]
    },
    {
      "cell_type": "code",
      "metadata": {
        "id": "UKsZhZ3DbLTB"
      },
      "source": [
        "if semester == 1 :\r\n",
        "  fileName = str(semester)+'st_Semester_'+'Results.csv'\r\n",
        "elif semester == 2 :\r\n",
        "  fileName = str(semester)+'nd_Semester_'+'Results.csv'\r\n",
        "elif semester == 3 :\r\n",
        "  fileName = str(semester)+'rd_Semester_'+'Results.csv'\r\n",
        "else :\r\n",
        "  fileName = str(semester)+'th_Semester_'+'Results.csv'"
      ],
      "execution_count": 144,
      "outputs": []
    },
    {
      "cell_type": "code",
      "metadata": {
        "id": "y7FpsIQTsKAY"
      },
      "source": [
        "import csv\r\n",
        "with open(fileName, 'w', newline='') as file:\r\n",
        "  writer = csv.writer(file)\r\n",
        "  writer.writerow([\"Student ID\", \"Student Name\", \"GPA\", \"CGPA\"])"
      ],
      "execution_count": 145,
      "outputs": []
    },
    {
      "cell_type": "code",
      "metadata": {
        "id": "8WqPNOCWlirt"
      },
      "source": [
        "with open(fileName, 'a', newline='') as file:\r\n",
        "  writer = csv.writer(file)\r\n",
        "  writer.writerow([studentID, studentName, newGPA, newCGPA])"
      ],
      "execution_count": 152,
      "outputs": []
    },
    {
      "cell_type": "code",
      "metadata": {
        "colab": {
          "base_uri": "https://localhost:8080/",
          "height": 106
        },
        "id": "vtZe_6GSoidO",
        "outputId": "ac1c5496-9a1e-4a7d-b616-91b4cdf2e379"
      },
      "source": [
        "import pandas as pd\r\n",
        "\r\n",
        "df = pd.read_csv(fileName)\r\n",
        "df"
      ],
      "execution_count": 170,
      "outputs": [
        {
          "output_type": "execute_result",
          "data": {
            "text/html": [
              "<div>\n",
              "<style scoped>\n",
              "    .dataframe tbody tr th:only-of-type {\n",
              "        vertical-align: middle;\n",
              "    }\n",
              "\n",
              "    .dataframe tbody tr th {\n",
              "        vertical-align: top;\n",
              "    }\n",
              "\n",
              "    .dataframe thead th {\n",
              "        text-align: right;\n",
              "    }\n",
              "</style>\n",
              "<table border=\"1\" class=\"dataframe\">\n",
              "  <thead>\n",
              "    <tr style=\"text-align: right;\">\n",
              "      <th></th>\n",
              "      <th>Student ID</th>\n",
              "      <th>Student Name</th>\n",
              "      <th>GPA</th>\n",
              "      <th>CGPA</th>\n",
              "    </tr>\n",
              "  </thead>\n",
              "  <tbody>\n",
              "    <tr>\n",
              "      <th>0</th>\n",
              "      <td>160041045</td>\n",
              "      <td>ShroudBABA</td>\n",
              "      <td>4.00</td>\n",
              "      <td>3.77</td>\n",
              "    </tr>\n",
              "    <tr>\n",
              "      <th>1</th>\n",
              "      <td>160041005</td>\n",
              "      <td>CantShoot420</td>\n",
              "      <td>3.81</td>\n",
              "      <td>3.54</td>\n",
              "    </tr>\n",
              "  </tbody>\n",
              "</table>\n",
              "</div>"
            ],
            "text/plain": [
              "   Student ID  Student Name   GPA  CGPA\n",
              "0   160041045    ShroudBABA  4.00  3.77\n",
              "1   160041005  CantShoot420  3.81  3.54"
            ]
          },
          "metadata": {
            "tags": []
          },
          "execution_count": 170
        }
      ]
    }
  ]
}